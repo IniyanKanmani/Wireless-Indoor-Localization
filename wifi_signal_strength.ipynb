{
 "cells": [
  {
   "attachments": {},
   "cell_type": "markdown",
   "metadata": {},
   "source": [
    "## Wireless Indoor Localization"
   ]
  },
  {
   "attachments": {},
   "cell_type": "markdown",
   "metadata": {},
   "source": [
    "### Imports"
   ]
  },
  {
   "cell_type": "code",
   "execution_count": 1,
   "metadata": {},
   "outputs": [
    {
     "name": "stdout",
     "output_type": "stream",
     "text": [
      "2.9.0\n"
     ]
    }
   ],
   "source": [
    "import tensorflow as tf\n",
    "print(tf.__version__)"
   ]
  },
  {
   "cell_type": "code",
   "execution_count": 2,
   "metadata": {},
   "outputs": [],
   "source": [
    "import numpy as np\n",
    "import pandas as pd\n",
    "import matplotlib.pyplot as plt"
   ]
  },
  {
   "attachments": {},
   "cell_type": "markdown",
   "metadata": {},
   "source": [
    "### Data"
   ]
  },
  {
   "cell_type": "code",
   "execution_count": 3,
   "metadata": {},
   "outputs": [
    {
     "data": {
      "text/html": [
       "<div>\n",
       "<style scoped>\n",
       "    .dataframe tbody tr th:only-of-type {\n",
       "        vertical-align: middle;\n",
       "    }\n",
       "\n",
       "    .dataframe tbody tr th {\n",
       "        vertical-align: top;\n",
       "    }\n",
       "\n",
       "    .dataframe thead th {\n",
       "        text-align: right;\n",
       "    }\n",
       "</style>\n",
       "<table border=\"1\" class=\"dataframe\">\n",
       "  <thead>\n",
       "    <tr style=\"text-align: right;\">\n",
       "      <th></th>\n",
       "      <th>Wifi-1</th>\n",
       "      <th>Wifi-2</th>\n",
       "      <th>Wifi-3</th>\n",
       "      <th>Wifi-4</th>\n",
       "      <th>Wifi-5</th>\n",
       "      <th>Wifi-6</th>\n",
       "      <th>Wifi-7</th>\n",
       "      <th>Room</th>\n",
       "    </tr>\n",
       "  </thead>\n",
       "  <tbody>\n",
       "    <tr>\n",
       "      <th>0</th>\n",
       "      <td>-64</td>\n",
       "      <td>-56</td>\n",
       "      <td>-61</td>\n",
       "      <td>-66</td>\n",
       "      <td>-71</td>\n",
       "      <td>-82</td>\n",
       "      <td>-81</td>\n",
       "      <td>1</td>\n",
       "    </tr>\n",
       "    <tr>\n",
       "      <th>1</th>\n",
       "      <td>-68</td>\n",
       "      <td>-57</td>\n",
       "      <td>-61</td>\n",
       "      <td>-65</td>\n",
       "      <td>-71</td>\n",
       "      <td>-85</td>\n",
       "      <td>-85</td>\n",
       "      <td>1</td>\n",
       "    </tr>\n",
       "    <tr>\n",
       "      <th>2</th>\n",
       "      <td>-63</td>\n",
       "      <td>-60</td>\n",
       "      <td>-60</td>\n",
       "      <td>-67</td>\n",
       "      <td>-76</td>\n",
       "      <td>-85</td>\n",
       "      <td>-84</td>\n",
       "      <td>1</td>\n",
       "    </tr>\n",
       "    <tr>\n",
       "      <th>3</th>\n",
       "      <td>-61</td>\n",
       "      <td>-60</td>\n",
       "      <td>-68</td>\n",
       "      <td>-62</td>\n",
       "      <td>-77</td>\n",
       "      <td>-90</td>\n",
       "      <td>-80</td>\n",
       "      <td>1</td>\n",
       "    </tr>\n",
       "    <tr>\n",
       "      <th>4</th>\n",
       "      <td>-63</td>\n",
       "      <td>-65</td>\n",
       "      <td>-60</td>\n",
       "      <td>-63</td>\n",
       "      <td>-77</td>\n",
       "      <td>-81</td>\n",
       "      <td>-87</td>\n",
       "      <td>1</td>\n",
       "    </tr>\n",
       "  </tbody>\n",
       "</table>\n",
       "</div>"
      ],
      "text/plain": [
       "   Wifi-1  Wifi-2  Wifi-3  Wifi-4  Wifi-5  Wifi-6  Wifi-7  Room\n",
       "0     -64     -56     -61     -66     -71     -82     -81     1\n",
       "1     -68     -57     -61     -65     -71     -85     -85     1\n",
       "2     -63     -60     -60     -67     -76     -85     -84     1\n",
       "3     -61     -60     -68     -62     -77     -90     -80     1\n",
       "4     -63     -65     -60     -63     -77     -81     -87     1"
      ]
     },
     "execution_count": 3,
     "metadata": {},
     "output_type": "execute_result"
    }
   ],
   "source": [
    "df = pd.read_csv('wifi_localization.txt', delimiter='\\t', header=None, names=pd.Series(['Wifi-1', 'Wifi-2', 'Wifi-3', 'Wifi-4', 'Wifi-5', 'Wifi-6', 'Wifi-7', 'Room']))\n",
    "df.head()"
   ]
  },
  {
   "cell_type": "code",
   "execution_count": 4,
   "metadata": {},
   "outputs": [
    {
     "name": "stdout",
     "output_type": "stream",
     "text": [
      "<class 'pandas.core.frame.DataFrame'>\n",
      "RangeIndex: 2000 entries, 0 to 1999\n",
      "Data columns (total 8 columns):\n",
      " #   Column  Non-Null Count  Dtype\n",
      "---  ------  --------------  -----\n",
      " 0   Wifi-1  2000 non-null   int64\n",
      " 1   Wifi-2  2000 non-null   int64\n",
      " 2   Wifi-3  2000 non-null   int64\n",
      " 3   Wifi-4  2000 non-null   int64\n",
      " 4   Wifi-5  2000 non-null   int64\n",
      " 5   Wifi-6  2000 non-null   int64\n",
      " 6   Wifi-7  2000 non-null   int64\n",
      " 7   Room    2000 non-null   int64\n",
      "dtypes: int64(8)\n",
      "memory usage: 125.1 KB\n"
     ]
    }
   ],
   "source": [
    "df.info()"
   ]
  },
  {
   "cell_type": "code",
   "execution_count": 5,
   "metadata": {},
   "outputs": [
    {
     "data": {
      "text/html": [
       "<div>\n",
       "<style scoped>\n",
       "    .dataframe tbody tr th:only-of-type {\n",
       "        vertical-align: middle;\n",
       "    }\n",
       "\n",
       "    .dataframe tbody tr th {\n",
       "        vertical-align: top;\n",
       "    }\n",
       "\n",
       "    .dataframe thead th {\n",
       "        text-align: right;\n",
       "    }\n",
       "</style>\n",
       "<table border=\"1\" class=\"dataframe\">\n",
       "  <thead>\n",
       "    <tr style=\"text-align: right;\">\n",
       "      <th></th>\n",
       "      <th>Wifi-1</th>\n",
       "      <th>Wifi-2</th>\n",
       "      <th>Wifi-3</th>\n",
       "      <th>Wifi-4</th>\n",
       "      <th>Wifi-5</th>\n",
       "      <th>Wifi-6</th>\n",
       "      <th>Wifi-7</th>\n",
       "      <th>Room</th>\n",
       "    </tr>\n",
       "  </thead>\n",
       "  <tbody>\n",
       "    <tr>\n",
       "      <th>count</th>\n",
       "      <td>2000.000000</td>\n",
       "      <td>2000.000000</td>\n",
       "      <td>2000.000000</td>\n",
       "      <td>2000.000000</td>\n",
       "      <td>2000.000000</td>\n",
       "      <td>2000.000000</td>\n",
       "      <td>2000.000000</td>\n",
       "      <td>2000.000000</td>\n",
       "    </tr>\n",
       "    <tr>\n",
       "      <th>mean</th>\n",
       "      <td>-52.330500</td>\n",
       "      <td>-55.623500</td>\n",
       "      <td>-54.964000</td>\n",
       "      <td>-53.566500</td>\n",
       "      <td>-62.640500</td>\n",
       "      <td>-80.985000</td>\n",
       "      <td>-81.726500</td>\n",
       "      <td>2.500000</td>\n",
       "    </tr>\n",
       "    <tr>\n",
       "      <th>std</th>\n",
       "      <td>11.321677</td>\n",
       "      <td>3.417688</td>\n",
       "      <td>5.316186</td>\n",
       "      <td>11.471982</td>\n",
       "      <td>9.105093</td>\n",
       "      <td>6.516672</td>\n",
       "      <td>6.519812</td>\n",
       "      <td>1.118314</td>\n",
       "    </tr>\n",
       "    <tr>\n",
       "      <th>min</th>\n",
       "      <td>-74.000000</td>\n",
       "      <td>-74.000000</td>\n",
       "      <td>-73.000000</td>\n",
       "      <td>-77.000000</td>\n",
       "      <td>-89.000000</td>\n",
       "      <td>-97.000000</td>\n",
       "      <td>-98.000000</td>\n",
       "      <td>1.000000</td>\n",
       "    </tr>\n",
       "    <tr>\n",
       "      <th>25%</th>\n",
       "      <td>-61.000000</td>\n",
       "      <td>-58.000000</td>\n",
       "      <td>-58.000000</td>\n",
       "      <td>-63.000000</td>\n",
       "      <td>-69.000000</td>\n",
       "      <td>-86.000000</td>\n",
       "      <td>-87.000000</td>\n",
       "      <td>1.750000</td>\n",
       "    </tr>\n",
       "    <tr>\n",
       "      <th>50%</th>\n",
       "      <td>-55.000000</td>\n",
       "      <td>-56.000000</td>\n",
       "      <td>-55.000000</td>\n",
       "      <td>-56.000000</td>\n",
       "      <td>-64.000000</td>\n",
       "      <td>-82.000000</td>\n",
       "      <td>-83.000000</td>\n",
       "      <td>2.500000</td>\n",
       "    </tr>\n",
       "    <tr>\n",
       "      <th>75%</th>\n",
       "      <td>-46.000000</td>\n",
       "      <td>-53.000000</td>\n",
       "      <td>-51.000000</td>\n",
       "      <td>-46.000000</td>\n",
       "      <td>-56.000000</td>\n",
       "      <td>-77.000000</td>\n",
       "      <td>-78.000000</td>\n",
       "      <td>3.250000</td>\n",
       "    </tr>\n",
       "    <tr>\n",
       "      <th>max</th>\n",
       "      <td>-10.000000</td>\n",
       "      <td>-45.000000</td>\n",
       "      <td>-40.000000</td>\n",
       "      <td>-11.000000</td>\n",
       "      <td>-36.000000</td>\n",
       "      <td>-61.000000</td>\n",
       "      <td>-63.000000</td>\n",
       "      <td>4.000000</td>\n",
       "    </tr>\n",
       "  </tbody>\n",
       "</table>\n",
       "</div>"
      ],
      "text/plain": [
       "            Wifi-1       Wifi-2       Wifi-3       Wifi-4       Wifi-5  \\\n",
       "count  2000.000000  2000.000000  2000.000000  2000.000000  2000.000000   \n",
       "mean    -52.330500   -55.623500   -54.964000   -53.566500   -62.640500   \n",
       "std      11.321677     3.417688     5.316186    11.471982     9.105093   \n",
       "min     -74.000000   -74.000000   -73.000000   -77.000000   -89.000000   \n",
       "25%     -61.000000   -58.000000   -58.000000   -63.000000   -69.000000   \n",
       "50%     -55.000000   -56.000000   -55.000000   -56.000000   -64.000000   \n",
       "75%     -46.000000   -53.000000   -51.000000   -46.000000   -56.000000   \n",
       "max     -10.000000   -45.000000   -40.000000   -11.000000   -36.000000   \n",
       "\n",
       "            Wifi-6       Wifi-7         Room  \n",
       "count  2000.000000  2000.000000  2000.000000  \n",
       "mean    -80.985000   -81.726500     2.500000  \n",
       "std       6.516672     6.519812     1.118314  \n",
       "min     -97.000000   -98.000000     1.000000  \n",
       "25%     -86.000000   -87.000000     1.750000  \n",
       "50%     -82.000000   -83.000000     2.500000  \n",
       "75%     -77.000000   -78.000000     3.250000  \n",
       "max     -61.000000   -63.000000     4.000000  "
      ]
     },
     "execution_count": 5,
     "metadata": {},
     "output_type": "execute_result"
    }
   ],
   "source": [
    "df.describe()"
   ]
  },
  {
   "attachments": {},
   "cell_type": "markdown",
   "metadata": {},
   "source": [
    "### Preprocess Data"
   ]
  },
  {
   "cell_type": "code",
   "execution_count": 6,
   "metadata": {},
   "outputs": [],
   "source": [
    "X = df.drop('Room', axis=1)\n",
    "y = df['Room']"
   ]
  },
  {
   "cell_type": "code",
   "execution_count": 7,
   "metadata": {},
   "outputs": [
    {
     "data": {
      "text/html": [
       "<div>\n",
       "<style scoped>\n",
       "    .dataframe tbody tr th:only-of-type {\n",
       "        vertical-align: middle;\n",
       "    }\n",
       "\n",
       "    .dataframe tbody tr th {\n",
       "        vertical-align: top;\n",
       "    }\n",
       "\n",
       "    .dataframe thead th {\n",
       "        text-align: right;\n",
       "    }\n",
       "</style>\n",
       "<table border=\"1\" class=\"dataframe\">\n",
       "  <thead>\n",
       "    <tr style=\"text-align: right;\">\n",
       "      <th></th>\n",
       "      <th>Wifi-1</th>\n",
       "      <th>Wifi-2</th>\n",
       "      <th>Wifi-3</th>\n",
       "      <th>Wifi-4</th>\n",
       "      <th>Wifi-5</th>\n",
       "      <th>Wifi-6</th>\n",
       "      <th>Wifi-7</th>\n",
       "    </tr>\n",
       "  </thead>\n",
       "  <tbody>\n",
       "    <tr>\n",
       "      <th>0</th>\n",
       "      <td>-64</td>\n",
       "      <td>-56</td>\n",
       "      <td>-61</td>\n",
       "      <td>-66</td>\n",
       "      <td>-71</td>\n",
       "      <td>-82</td>\n",
       "      <td>-81</td>\n",
       "    </tr>\n",
       "    <tr>\n",
       "      <th>1</th>\n",
       "      <td>-68</td>\n",
       "      <td>-57</td>\n",
       "      <td>-61</td>\n",
       "      <td>-65</td>\n",
       "      <td>-71</td>\n",
       "      <td>-85</td>\n",
       "      <td>-85</td>\n",
       "    </tr>\n",
       "    <tr>\n",
       "      <th>2</th>\n",
       "      <td>-63</td>\n",
       "      <td>-60</td>\n",
       "      <td>-60</td>\n",
       "      <td>-67</td>\n",
       "      <td>-76</td>\n",
       "      <td>-85</td>\n",
       "      <td>-84</td>\n",
       "    </tr>\n",
       "    <tr>\n",
       "      <th>3</th>\n",
       "      <td>-61</td>\n",
       "      <td>-60</td>\n",
       "      <td>-68</td>\n",
       "      <td>-62</td>\n",
       "      <td>-77</td>\n",
       "      <td>-90</td>\n",
       "      <td>-80</td>\n",
       "    </tr>\n",
       "    <tr>\n",
       "      <th>4</th>\n",
       "      <td>-63</td>\n",
       "      <td>-65</td>\n",
       "      <td>-60</td>\n",
       "      <td>-63</td>\n",
       "      <td>-77</td>\n",
       "      <td>-81</td>\n",
       "      <td>-87</td>\n",
       "    </tr>\n",
       "  </tbody>\n",
       "</table>\n",
       "</div>"
      ],
      "text/plain": [
       "   Wifi-1  Wifi-2  Wifi-3  Wifi-4  Wifi-5  Wifi-6  Wifi-7\n",
       "0     -64     -56     -61     -66     -71     -82     -81\n",
       "1     -68     -57     -61     -65     -71     -85     -85\n",
       "2     -63     -60     -60     -67     -76     -85     -84\n",
       "3     -61     -60     -68     -62     -77     -90     -80\n",
       "4     -63     -65     -60     -63     -77     -81     -87"
      ]
     },
     "execution_count": 7,
     "metadata": {},
     "output_type": "execute_result"
    }
   ],
   "source": [
    "X.head()"
   ]
  },
  {
   "cell_type": "code",
   "execution_count": 8,
   "metadata": {},
   "outputs": [
    {
     "data": {
      "text/plain": [
       "0    1\n",
       "1    1\n",
       "2    1\n",
       "3    1\n",
       "4    1\n",
       "Name: Room, dtype: int64"
      ]
     },
     "execution_count": 8,
     "metadata": {},
     "output_type": "execute_result"
    }
   ],
   "source": [
    "y.head()"
   ]
  },
  {
   "cell_type": "code",
   "execution_count": 9,
   "metadata": {},
   "outputs": [],
   "source": [
    "from sklearn.model_selection import train_test_split"
   ]
  },
  {
   "cell_type": "code",
   "execution_count": 10,
   "metadata": {},
   "outputs": [],
   "source": [
    "np.random.seed(42)\n",
    "X_train, X_test, y_train, y_test = train_test_split(X, y, test_size=0.2)"
   ]
  },
  {
   "cell_type": "code",
   "execution_count": 11,
   "metadata": {},
   "outputs": [
    {
     "data": {
      "text/html": [
       "<div>\n",
       "<style scoped>\n",
       "    .dataframe tbody tr th:only-of-type {\n",
       "        vertical-align: middle;\n",
       "    }\n",
       "\n",
       "    .dataframe tbody tr th {\n",
       "        vertical-align: top;\n",
       "    }\n",
       "\n",
       "    .dataframe thead th {\n",
       "        text-align: right;\n",
       "    }\n",
       "</style>\n",
       "<table border=\"1\" class=\"dataframe\">\n",
       "  <thead>\n",
       "    <tr style=\"text-align: right;\">\n",
       "      <th></th>\n",
       "      <th>Wifi-1</th>\n",
       "      <th>Wifi-2</th>\n",
       "      <th>Wifi-3</th>\n",
       "      <th>Wifi-4</th>\n",
       "      <th>Wifi-5</th>\n",
       "      <th>Wifi-6</th>\n",
       "      <th>Wifi-7</th>\n",
       "    </tr>\n",
       "  </thead>\n",
       "  <tbody>\n",
       "    <tr>\n",
       "      <th>968</th>\n",
       "      <td>-37</td>\n",
       "      <td>-54</td>\n",
       "      <td>-47</td>\n",
       "      <td>-36</td>\n",
       "      <td>-63</td>\n",
       "      <td>-70</td>\n",
       "      <td>-70</td>\n",
       "    </tr>\n",
       "    <tr>\n",
       "      <th>240</th>\n",
       "      <td>-58</td>\n",
       "      <td>-59</td>\n",
       "      <td>-59</td>\n",
       "      <td>-65</td>\n",
       "      <td>-65</td>\n",
       "      <td>-82</td>\n",
       "      <td>-94</td>\n",
       "    </tr>\n",
       "    <tr>\n",
       "      <th>819</th>\n",
       "      <td>-42</td>\n",
       "      <td>-54</td>\n",
       "      <td>-58</td>\n",
       "      <td>-41</td>\n",
       "      <td>-63</td>\n",
       "      <td>-75</td>\n",
       "      <td>-78</td>\n",
       "    </tr>\n",
       "    <tr>\n",
       "      <th>692</th>\n",
       "      <td>-37</td>\n",
       "      <td>-56</td>\n",
       "      <td>-57</td>\n",
       "      <td>-39</td>\n",
       "      <td>-61</td>\n",
       "      <td>-72</td>\n",
       "      <td>-74</td>\n",
       "    </tr>\n",
       "    <tr>\n",
       "      <th>420</th>\n",
       "      <td>-64</td>\n",
       "      <td>-57</td>\n",
       "      <td>-63</td>\n",
       "      <td>-59</td>\n",
       "      <td>-68</td>\n",
       "      <td>-82</td>\n",
       "      <td>-83</td>\n",
       "    </tr>\n",
       "  </tbody>\n",
       "</table>\n",
       "</div>"
      ],
      "text/plain": [
       "     Wifi-1  Wifi-2  Wifi-3  Wifi-4  Wifi-5  Wifi-6  Wifi-7\n",
       "968     -37     -54     -47     -36     -63     -70     -70\n",
       "240     -58     -59     -59     -65     -65     -82     -94\n",
       "819     -42     -54     -58     -41     -63     -75     -78\n",
       "692     -37     -56     -57     -39     -61     -72     -74\n",
       "420     -64     -57     -63     -59     -68     -82     -83"
      ]
     },
     "execution_count": 11,
     "metadata": {},
     "output_type": "execute_result"
    }
   ],
   "source": [
    "X_train.head()"
   ]
  },
  {
   "cell_type": "code",
   "execution_count": 12,
   "metadata": {},
   "outputs": [
    {
     "data": {
      "text/plain": [
       "968    2\n",
       "240    1\n",
       "819    2\n",
       "692    2\n",
       "420    1\n",
       "Name: Room, dtype: int64"
      ]
     },
     "execution_count": 12,
     "metadata": {},
     "output_type": "execute_result"
    }
   ],
   "source": [
    "y_train.head()"
   ]
  }
 ],
 "metadata": {
  "kernelspec": {
   "display_name": "ml",
   "language": "python",
   "name": "python3"
  },
  "language_info": {
   "codemirror_mode": {
    "name": "ipython",
    "version": 3
   },
   "file_extension": ".py",
   "mimetype": "text/x-python",
   "name": "python",
   "nbconvert_exporter": "python",
   "pygments_lexer": "ipython3",
   "version": "3.8.0"
  },
  "orig_nbformat": 4,
  "vscode": {
   "interpreter": {
    "hash": "ee2a47a33f4ea6dc5cfc0b46ca82e6d3459ebcab032dc9c3a915193b0e6dc464"
   }
  }
 },
 "nbformat": 4,
 "nbformat_minor": 2
}
